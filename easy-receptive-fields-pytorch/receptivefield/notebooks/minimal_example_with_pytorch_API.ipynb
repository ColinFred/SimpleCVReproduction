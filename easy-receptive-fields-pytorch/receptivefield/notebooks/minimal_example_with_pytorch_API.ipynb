{
 "cells": [
  {
   "cell_type": "markdown",
   "metadata": {
    "ExecuteTime": {
     "end_time": "2018-07-16T07:17:29.913759Z",
     "start_time": "2018-07-16T07:17:29.887497Z"
    }
   },
   "source": [
    "# Minimal example - Pytorch API"
   ]
  },
  {
   "cell_type": "markdown",
   "metadata": {},
   "source": [
    "## Define nn.Module with feature extractor network\n",
    "\n",
    "Notes:\n",
    "* In the forward funcition one must define the `self.feature_maps = [some_tensor, another_tensor]` parameter. This parameter is used by the `PytorchReceptiveField` to get the desired feature maps. \n",
    "* The feature_maps is a list of tensors of shape [batch_size, num_channels, height, width]."
   ]
  },
  {
   "cell_type": "code",
   "execution_count": 1,
   "metadata": {
    "ExecuteTime": {
     "end_time": "2018-07-21T11:38:14.616715Z",
     "start_time": "2018-07-21T11:38:14.607840Z"
    }
   },
   "outputs": [],
   "source": [
    "%load_ext autoreload\n",
    "%autoreload 2"
   ]
  },
  {
   "cell_type": "code",
   "execution_count": 2,
   "metadata": {
    "ExecuteTime": {
     "end_time": "2018-07-21T11:38:49.663764Z",
     "start_time": "2018-07-21T11:38:49.417635Z"
    }
   },
   "outputs": [],
   "source": [
    "import torch\n",
    "import torch.nn as nn\n",
    "\n",
    "class Linear(nn.Module):\n",
    "    \"\"\"An identity activation function\"\"\"\n",
    "    def forward(self, x):\n",
    "        return x\n",
    "    \n",
    "\n",
    "class SimpleVGG(nn.Module):\n",
    "    def __init__(self, disable_activations: bool = False):\n",
    "        \"\"\"disable_activations: whether to generate network with Relus or not.\"\"\"\n",
    "        super(SimpleVGG, self).__init__()\n",
    "        self.features = self._make_layers(disable_activations)\n",
    "\n",
    "    def forward(self, x):\n",
    "        # index of layers with feature maps\n",
    "        select = [8, 13]\n",
    "        # self.feature_maps is a list of Tensors, PytorchReceptiveField looks for \n",
    "        # this parameter and compute receptive fields for Tensors in self.feature_maps.\n",
    "        self.feature_maps = []\n",
    "        for l, layer in enumerate(self.features):\n",
    "            x = layer(x)\n",
    "            if l in select:\n",
    "                self.feature_maps.append(x)\n",
    "        return x\n",
    "\n",
    "    def _make_layers(self, disable_activations: bool):\n",
    "        activation = lambda: Linear() if disable_activations else nn.ReLU()\n",
    "        layers = [\n",
    "            nn.Conv2d(3, 64, kernel_size=3),\n",
    "            activation(),\n",
    "            nn.Conv2d(64, 64, kernel_size=3),\n",
    "            activation(),\n",
    "            \n",
    "            nn.AvgPool2d(kernel_size=2, stride=2),\n",
    "            nn.Conv2d(64, 128, kernel_size=3),\n",
    "            activation(),\n",
    "            nn.Conv2d(128, 128, kernel_size=3),\n",
    "            activation(), # 8\n",
    "            \n",
    "            nn.AvgPool2d(kernel_size=2, stride=2),\n",
    "            nn.Conv2d(128, 256, kernel_size=3),\n",
    "            activation(),\n",
    "            nn.Conv2d(256, 256, kernel_size=3),\n",
    "            activation(), # 13\n",
    "        ]        \n",
    "        return nn.Sequential(*layers)    "
   ]
  },
  {
   "cell_type": "markdown",
   "metadata": {},
   "source": [
    "## Define model build function\n",
    "Notes:\n",
    "* In the case when using layers which behave differently on training and eval modes, it is recommended to set model to an eval mode: `model.eval()`"
   ]
  },
  {
   "cell_type": "code",
   "execution_count": 3,
   "metadata": {
    "ExecuteTime": {
     "end_time": "2018-07-21T11:38:50.874157Z",
     "start_time": "2018-07-21T11:38:50.871385Z"
    }
   },
   "outputs": [],
   "source": [
    "def model_fn() -> nn.Module:\n",
    "    model = SimpleVGG(disable_activations=True)\n",
    "    model.eval()\n",
    "    return model"
   ]
  },
  {
   "cell_type": "markdown",
   "metadata": {},
   "source": [
    "## Run RF estimation"
   ]
  },
  {
   "cell_type": "code",
   "execution_count": 4,
   "metadata": {
    "ExecuteTime": {
     "end_time": "2018-07-21T11:38:52.965397Z",
     "start_time": "2018-07-21T11:38:52.156019Z"
    }
   },
   "outputs": [
    {
     "ename": "ModuleNotFoundError",
     "evalue": "No module named 'receptivefield'",
     "output_type": "error",
     "traceback": [
      "\u001b[1;31m---------------------------------------------------------------------------\u001b[0m",
      "\u001b[1;31mModuleNotFoundError\u001b[0m                       Traceback (most recent call last)",
      "\u001b[1;32m<ipython-input-4-d529bf9e498b>\u001b[0m in \u001b[0;36m<module>\u001b[1;34m\u001b[0m\n\u001b[1;32m----> 1\u001b[1;33m \u001b[1;32mfrom\u001b[0m \u001b[0mreceptivefield\u001b[0m\u001b[1;33m.\u001b[0m\u001b[0mpytorch\u001b[0m \u001b[1;32mimport\u001b[0m \u001b[0mPytorchReceptiveField\u001b[0m\u001b[1;33m\u001b[0m\u001b[1;33m\u001b[0m\u001b[0m\n\u001b[0m\u001b[0;32m      2\u001b[0m \u001b[1;33m\u001b[0m\u001b[0m\n\u001b[0;32m      3\u001b[0m \u001b[0minput_shape\u001b[0m \u001b[1;33m=\u001b[0m \u001b[1;33m[\u001b[0m\u001b[1;36m96\u001b[0m\u001b[1;33m,\u001b[0m \u001b[1;36m96\u001b[0m\u001b[1;33m,\u001b[0m \u001b[1;36m3\u001b[0m\u001b[1;33m]\u001b[0m\u001b[1;33m\u001b[0m\u001b[1;33m\u001b[0m\u001b[0m\n\u001b[0;32m      4\u001b[0m \u001b[0mrf\u001b[0m \u001b[1;33m=\u001b[0m \u001b[0mPytorchReceptiveField\u001b[0m\u001b[1;33m(\u001b[0m\u001b[0mmodel_fn\u001b[0m\u001b[1;33m)\u001b[0m\u001b[1;33m\u001b[0m\u001b[1;33m\u001b[0m\u001b[0m\n\u001b[0;32m      5\u001b[0m \u001b[0mrf_params\u001b[0m \u001b[1;33m=\u001b[0m \u001b[0mrf\u001b[0m\u001b[1;33m.\u001b[0m\u001b[0mcompute\u001b[0m\u001b[1;33m(\u001b[0m\u001b[0minput_shape\u001b[0m \u001b[1;33m=\u001b[0m \u001b[0minput_shape\u001b[0m\u001b[1;33m)\u001b[0m\u001b[1;33m\u001b[0m\u001b[1;33m\u001b[0m\u001b[0m\n",
      "\u001b[1;31mModuleNotFoundError\u001b[0m: No module named 'receptivefield'"
     ]
    }
   ],
   "source": [
    "from receptivefield.pytorch import PytorchReceptiveField\n",
    "\n",
    "input_shape = [96, 96, 3]\n",
    "rf = PytorchReceptiveField(model_fn)\n",
    "rf_params = rf.compute(input_shape = input_shape) "
   ]
  },
  {
   "cell_type": "code",
   "execution_count": null,
   "metadata": {
    "ExecuteTime": {
     "end_time": "2018-07-21T11:36:22.815978Z",
     "start_time": "2018-07-21T11:36:22.803713Z"
    }
   },
   "outputs": [],
   "source": [
    "rf.feature_maps_desc"
   ]
  },
  {
   "cell_type": "code",
   "execution_count": null,
   "metadata": {
    "ExecuteTime": {
     "end_time": "2018-07-21T11:36:30.187306Z",
     "start_time": "2018-07-21T11:36:29.681945Z"
    },
    "scrolled": true
   },
   "outputs": [],
   "source": [
    "from receptivefield.image import get_default_image\n",
    "rf.plot_rf_grids(get_default_image(input_shape, name='cat'), figsize=(20, 12), layout=(1, 2))"
   ]
  },
  {
   "cell_type": "code",
   "execution_count": null,
   "metadata": {
    "ExecuteTime": {
     "end_time": "2018-07-21T10:19:33.319236Z",
     "start_time": "2018-07-21T10:19:32.901948Z"
    }
   },
   "outputs": [],
   "source": [
    "rf.plot_gradient_at(fm_id=1, point=(9, 9))"
   ]
  },
  {
   "cell_type": "code",
   "execution_count": null,
   "metadata": {},
   "outputs": [],
   "source": []
  }
 ],
 "metadata": {
  "kernelspec": {
   "display_name": "Python 3",
   "language": "python",
   "name": "python3"
  },
  "language_info": {
   "codemirror_mode": {
    "name": "ipython",
    "version": 3
   },
   "file_extension": ".py",
   "mimetype": "text/x-python",
   "name": "python",
   "nbconvert_exporter": "python",
   "pygments_lexer": "ipython3",
   "version": "3.7.6"
  },
  "toc": {
   "colors": {
    "hover_highlight": "#DAA520",
    "navigate_num": "#000000",
    "navigate_text": "#333333",
    "running_highlight": "#FF0000",
    "selected_highlight": "#FFD700",
    "sidebar_border": "#EEEEEE",
    "wrapper_background": "#FFFFFF"
   },
   "moveMenuLeft": true,
   "nav_menu": {
    "height": "48.3523px",
    "width": "251.989px"
   },
   "navigate_menu": true,
   "number_sections": true,
   "sideBar": true,
   "threshold": 4,
   "toc_cell": false,
   "toc_section_display": "block",
   "toc_window_display": false,
   "widenNotebook": false
  },
  "varInspector": {
   "cols": {
    "lenName": 16,
    "lenType": 16,
    "lenVar": 40
   },
   "kernels_config": {
    "python": {
     "delete_cmd_postfix": "",
     "delete_cmd_prefix": "del ",
     "library": "var_list.py",
     "varRefreshCmd": "print(var_dic_list())"
    },
    "r": {
     "delete_cmd_postfix": ") ",
     "delete_cmd_prefix": "rm(",
     "library": "var_list.r",
     "varRefreshCmd": "cat(var_dic_list()) "
    }
   },
   "types_to_exclude": [
    "module",
    "function",
    "builtin_function_or_method",
    "instance",
    "_Feature"
   ],
   "window_display": false
  }
 },
 "nbformat": 4,
 "nbformat_minor": 4
}
